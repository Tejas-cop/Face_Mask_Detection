{
 "cells": [
  {
   "cell_type": "markdown",
   "id": "7c6eb297",
   "metadata": {},
   "source": [
    "## <span style=\"font-family:Copperplate Gothic\"><u>Mask Detection Using TensorFlow</u></span> "
   ]
  },
  {
   "cell_type": "markdown",
   "id": "84213e08",
   "metadata": {},
   "source": [
    "\n",
    "> ``Analyst Profile Information``\n",
    "     \n",
    "| Data Analyst Profile Information    :|                            | \n",
    "|---                     |---                                 |\n",
    "|Person Name  →          |<b>Tejas Buradkar</b>             |\n",
    "|E-Mail       →          |buradkartejas5@gmail.com           |\n",
    "|Reference Name →        |IABAC:-International Association of Business Analytics Certification    |\n",
    "|Module type →           |Certified Data Scientist - Project  |\n"
   ]
  },
  {
   "cell_type": "code",
   "execution_count": 1,
   "id": "0463b62d",
   "metadata": {},
   "outputs": [],
   "source": [
    "from tensorflow.keras.preprocessing.image import ImageDataGenerator\n",
    "from tensorflow.keras.applications import MobileNetV2\n",
    "from tensorflow.keras.layers import AveragePooling2D\n",
    "from tensorflow.keras.layers import Dropout\n",
    "from tensorflow.keras.layers import Flatten\n",
    "from tensorflow.keras.layers import Dense\n",
    "from tensorflow.keras.layers import Input\n",
    "from tensorflow.keras.models import Model\n",
    "from tensorflow.keras.optimizers import Adam\n",
    "from tensorflow.keras.applications.mobilenet_v2 import preprocess_input\n",
    "from tensorflow.keras.preprocessing.image import img_to_array\n",
    "from tensorflow.keras.preprocessing.image import load_img\n",
    "from tensorflow.keras.utils import to_categorical\n",
    "from sklearn.preprocessing import LabelBinarizer\n",
    "from sklearn.model_selection import train_test_split\n",
    "from sklearn.metrics import classification_report\n",
    "from imutils import paths\n",
    "import matplotlib.pyplot as plt\n",
    "import numpy as np\n",
    "import warnings\n",
    "warnings.filterwarnings('ignore')\n",
    "import os"
   ]
  },
  {
   "cell_type": "code",
   "execution_count": 2,
   "id": "48741ef6",
   "metadata": {},
   "outputs": [],
   "source": [
    "# initialize the initial learning rate, number of epochs to train for,\n",
    "# and batch size\n",
    "# LR learning rate keeping low LR brings more accuracy\n",
    "INIT_LR = 1e-4\n",
    "EPOCHS = 20\n",
    "# batch size\n",
    "BS = 32"
   ]
  },
  {
   "cell_type": "code",
   "execution_count": 3,
   "id": "ae4b0512",
   "metadata": {},
   "outputs": [],
   "source": [
    "DIRECTORY = \"./data/\"\n",
    "CATEGORIES = [\"with_mask\", \"without_mask\"]"
   ]
  },
  {
   "cell_type": "code",
   "execution_count": 4,
   "id": "d77d7c9b",
   "metadata": {},
   "outputs": [
    {
     "data": {
      "text/plain": [
       "'./data/'"
      ]
     },
     "execution_count": 4,
     "metadata": {},
     "output_type": "execute_result"
    }
   ],
   "source": [
    "DIRECTORY"
   ]
  },
  {
   "cell_type": "code",
   "execution_count": 5,
   "id": "a3edd8c1",
   "metadata": {},
   "outputs": [
    {
     "name": "stdout",
     "output_type": "stream",
     "text": [
      "[INFO] loading images...\n"
     ]
    }
   ],
   "source": [
    "# grab the list of images in our dataset directory, then initialize\n",
    "# the list of data (i.e., images) and class images\n",
    "print(\"[INFO] loading images...\")\n",
    "\n",
    "data = []\n",
    "labels = []\n"
   ]
  },
  {
   "cell_type": "code",
   "execution_count": 6,
   "id": "960bc4ef",
   "metadata": {},
   "outputs": [],
   "source": [
    "\n",
    "for category in CATEGORIES:\n",
    "    path = os.path.join(DIRECTORY, category)\n",
    "    for img in os.listdir(path):\n",
    "        img_path = os.path.join(path, img)\n",
    "        image = load_img(img_path, target_size=(224, 224))\n",
    "        image = img_to_array(image)\n",
    "        image = preprocess_input(image)\n",
    "\n",
    "        data.append(image)\n",
    "        labels.append(category)"
   ]
  },
  {
   "cell_type": "code",
   "execution_count": 7,
   "id": "c226e218",
   "metadata": {},
   "outputs": [],
   "source": [
    "# perform one-hot encoding on the labels\n",
    "lb = LabelBinarizer()\n",
    "labels = lb.fit_transform(labels)\n",
    "labels = to_categorical(labels)\n",
    "\n",
    "data = np.array(data, dtype=\"float32\")\n",
    "labels = np.array(labels)"
   ]
  },
  {
   "cell_type": "code",
   "execution_count": 8,
   "id": "00c6fcbf",
   "metadata": {},
   "outputs": [],
   "source": [
    "(trainX, testX, trainY, testY) = train_test_split(data, labels,\n",
    "\ttest_size=0.20, stratify=labels, random_state=42)\n",
    "\n",
    "# construct the training image generator for data augmentation\n",
    "# multipying single image and making more outof single\n",
    "aug = ImageDataGenerator(\n",
    "\trotation_range=20,\n",
    "\tzoom_range=0.15,\n",
    "\twidth_shift_range=0.2,\n",
    "\theight_shift_range=0.2,\n",
    "\tshear_range=0.15,\n",
    "\thorizontal_flip=True,\n",
    "\tfill_mode=\"nearest\")"
   ]
  },
  {
   "cell_type": "code",
   "execution_count": 9,
   "id": "3c917689",
   "metadata": {},
   "outputs": [
    {
     "name": "stdout",
     "output_type": "stream",
     "text": [
      "WARNING:tensorflow:`input_shape` is undefined or non-square, or `rows` is not in [96, 128, 160, 192, 224]. Weights for input shape (224, 224) will be loaded as the default.\n",
      "Downloading data from https://storage.googleapis.com/tensorflow/keras-applications/mobilenet_v2/mobilenet_v2_weights_tf_dim_ordering_tf_kernels_1.0_224_no_top.h5\n",
      "9406464/9406464 [==============================] - 4s 0us/step\n"
     ]
    }
   ],
   "source": [
    "# load the MobileNetV2 network, ensuring the head FC layer sets are\n",
    "# left off\n",
    "baseModel = MobileNetV2(weights=\"imagenet\", include_top=False,\n",
    "\tinput_tensor=Input(shape=(224, 224, 3)))\n",
    "\n",
    "# construct the head of the model that will be placed on top of the\n",
    "# the base model\n",
    "headModel = baseModel.output\n",
    "headModel = AveragePooling2D(pool_size=(7, 7))(headModel)\n",
    "headModel = Flatten(name=\"flatten\")(headModel)\n",
    "headModel = Dense(128, activation=\"relu\")(headModel)\n",
    "headModel = Dropout(0.5)(headModel)\n",
    "headModel = Dense(2, activation=\"softmax\")(headModel)"
   ]
  },
  {
   "cell_type": "code",
   "execution_count": 10,
   "id": "303d5048",
   "metadata": {},
   "outputs": [],
   "source": [
    "# place the head FC model on top of the base model (this will become\n",
    "# the actual model we will train)\n",
    "model = Model(inputs=baseModel.input, outputs=headModel)"
   ]
  },
  {
   "cell_type": "code",
   "execution_count": 11,
   "id": "1725d7b4",
   "metadata": {},
   "outputs": [],
   "source": [
    "# loop over all layers in the base model and freeze them so they will\n",
    "# *not* be updated during the first training process\n",
    "for layer in baseModel.layers:\n",
    "\tlayer.trainable = False"
   ]
  },
  {
   "cell_type": "code",
   "execution_count": 12,
   "id": "8c19ceb7",
   "metadata": {},
   "outputs": [
    {
     "name": "stdout",
     "output_type": "stream",
     "text": [
      "[INFO] compiling model...\n"
     ]
    }
   ],
   "source": [
    "# compile our model\n",
    "print(\"[INFO] compiling model...\")\n",
    "opt = Adam(lr=INIT_LR, decay=INIT_LR / EPOCHS)\n",
    "model.compile(loss=\"binary_crossentropy\", optimizer=opt,\n",
    "\tmetrics=[\"accuracy\"])"
   ]
  },
  {
   "cell_type": "code",
   "execution_count": 13,
   "id": "27f3797a",
   "metadata": {
    "scrolled": true
   },
   "outputs": [
    {
     "name": "stdout",
     "output_type": "stream",
     "text": [
      "[INFO] training head...\n",
      "Epoch 1/20\n",
      "102/102 [==============================] - 114s 1s/step - loss: 0.3612 - accuracy: 0.8816 - val_loss: 0.1419 - val_accuracy: 0.9792\n",
      "Epoch 2/20\n",
      "102/102 [==============================] - 141s 1s/step - loss: 0.1433 - accuracy: 0.9661 - val_loss: 0.0825 - val_accuracy: 0.9853\n",
      "Epoch 3/20\n",
      "102/102 [==============================] - 134s 1s/step - loss: 0.1016 - accuracy: 0.9735 - val_loss: 0.0630 - val_accuracy: 0.9866\n",
      "Epoch 4/20\n",
      "102/102 [==============================] - 123s 1s/step - loss: 0.0833 - accuracy: 0.9760 - val_loss: 0.0559 - val_accuracy: 0.9866\n",
      "Epoch 5/20\n",
      "102/102 [==============================] - 124s 1s/step - loss: 0.0689 - accuracy: 0.9784 - val_loss: 0.0495 - val_accuracy: 0.9878\n",
      "Epoch 6/20\n",
      "102/102 [==============================] - 128s 1s/step - loss: 0.0611 - accuracy: 0.9830 - val_loss: 0.0461 - val_accuracy: 0.9890\n",
      "Epoch 7/20\n",
      "102/102 [==============================] - 124s 1s/step - loss: 0.0589 - accuracy: 0.9815 - val_loss: 0.0465 - val_accuracy: 0.9853\n",
      "Epoch 8/20\n",
      "102/102 [==============================] - 124s 1s/step - loss: 0.0491 - accuracy: 0.9843 - val_loss: 0.0437 - val_accuracy: 0.9878\n",
      "Epoch 9/20\n",
      "102/102 [==============================] - 125s 1s/step - loss: 0.0545 - accuracy: 0.9809 - val_loss: 0.0427 - val_accuracy: 0.9878\n",
      "Epoch 10/20\n",
      "102/102 [==============================] - 125s 1s/step - loss: 0.0486 - accuracy: 0.9858 - val_loss: 0.0396 - val_accuracy: 0.9890\n",
      "Epoch 11/20\n",
      "102/102 [==============================] - 123s 1s/step - loss: 0.0394 - accuracy: 0.9889 - val_loss: 0.0440 - val_accuracy: 0.9890\n",
      "Epoch 12/20\n",
      "102/102 [==============================] - 118s 1s/step - loss: 0.0384 - accuracy: 0.9886 - val_loss: 0.0378 - val_accuracy: 0.9902\n",
      "Epoch 13/20\n",
      "102/102 [==============================] - 114s 1s/step - loss: 0.0434 - accuracy: 0.9886 - val_loss: 0.0367 - val_accuracy: 0.9878\n",
      "Epoch 14/20\n",
      "102/102 [==============================] - 112s 1s/step - loss: 0.0377 - accuracy: 0.9883 - val_loss: 0.0400 - val_accuracy: 0.9902\n",
      "Epoch 15/20\n",
      "102/102 [==============================] - 112s 1s/step - loss: 0.0366 - accuracy: 0.9892 - val_loss: 0.0358 - val_accuracy: 0.9878\n",
      "Epoch 16/20\n",
      "102/102 [==============================] - 110s 1s/step - loss: 0.0321 - accuracy: 0.9898 - val_loss: 0.0380 - val_accuracy: 0.9890\n",
      "Epoch 17/20\n",
      "102/102 [==============================] - 114s 1s/step - loss: 0.0314 - accuracy: 0.9914 - val_loss: 0.0347 - val_accuracy: 0.9878\n",
      "Epoch 18/20\n",
      "102/102 [==============================] - 118s 1s/step - loss: 0.0332 - accuracy: 0.9904 - val_loss: 0.0326 - val_accuracy: 0.9890\n",
      "Epoch 19/20\n",
      "102/102 [==============================] - 126s 1s/step - loss: 0.0262 - accuracy: 0.9920 - val_loss: 0.0315 - val_accuracy: 0.9890\n",
      "Epoch 20/20\n",
      "102/102 [==============================] - 112s 1s/step - loss: 0.0367 - accuracy: 0.9898 - val_loss: 0.0311 - val_accuracy: 0.9902\n"
     ]
    }
   ],
   "source": [
    "# train the head of the network\n",
    "print(\"[INFO] training head...\")\n",
    "H = model.fit(\n",
    "\taug.flow(trainX, trainY, batch_size=BS),\n",
    "\tsteps_per_epoch=len(trainX) // BS,\n",
    "\tvalidation_data=(testX, testY),\n",
    "\tvalidation_steps=len(testX) // BS,\n",
    "\tepochs=EPOCHS)"
   ]
  },
  {
   "cell_type": "code",
   "execution_count": 14,
   "id": "cba90e94",
   "metadata": {},
   "outputs": [
    {
     "name": "stdout",
     "output_type": "stream",
     "text": [
      "[INFO] evaluating network...\n",
      "26/26 [==============================] - 18s 632ms/step\n"
     ]
    }
   ],
   "source": [
    "# make predictions on the testing set\n",
    "print(\"[INFO] evaluating network...\")\n",
    "predIdxs = model.predict(testX, batch_size=BS)"
   ]
  },
  {
   "cell_type": "code",
   "execution_count": 15,
   "id": "af38ce1b",
   "metadata": {},
   "outputs": [],
   "source": [
    "# for each image in the testing set we need to find the index of the\n",
    "# label with corresponding largest predicted probability\n",
    "predIdxs = np.argmax(predIdxs, axis=1)"
   ]
  },
  {
   "cell_type": "code",
   "execution_count": 16,
   "id": "d0a8a25a",
   "metadata": {},
   "outputs": [
    {
     "name": "stdout",
     "output_type": "stream",
     "text": [
      "              precision    recall  f1-score   support\n",
      "\n",
      "   with_mask       0.99      0.99      0.99       433\n",
      "without_mask       0.99      0.99      0.99       386\n",
      "\n",
      "    accuracy                           0.99       819\n",
      "   macro avg       0.99      0.99      0.99       819\n",
      "weighted avg       0.99      0.99      0.99       819\n",
      "\n"
     ]
    }
   ],
   "source": [
    "# show a nicely formatted classification report\n",
    "print(classification_report(testY.argmax(axis=1), predIdxs,\n",
    "\ttarget_names=lb.classes_))"
   ]
  },
  {
   "cell_type": "code",
   "execution_count": 18,
   "id": "fa4ed9aa",
   "metadata": {},
   "outputs": [
    {
     "name": "stdout",
     "output_type": "stream",
     "text": [
      "[INFO] saving mask detector model...\n"
     ]
    }
   ],
   "source": [
    "# serialize the model to disk\n",
    "print(\"[INFO] saving mask detector model...\")\n",
    "model.save(\"mask_detector1.model\", save_format=\"h5\")"
   ]
  },
  {
   "cell_type": "code",
   "execution_count": null,
   "id": "e445e5b2",
   "metadata": {},
   "outputs": [],
   "source": []
  }
 ],
 "metadata": {
  "kernelspec": {
   "display_name": "Python 3 (ipykernel)",
   "language": "python",
   "name": "python3"
  },
  "language_info": {
   "codemirror_mode": {
    "name": "ipython",
    "version": 3
   },
   "file_extension": ".py",
   "mimetype": "text/x-python",
   "name": "python",
   "nbconvert_exporter": "python",
   "pygments_lexer": "ipython3",
   "version": "3.9.12"
  }
 },
 "nbformat": 4,
 "nbformat_minor": 5
}
